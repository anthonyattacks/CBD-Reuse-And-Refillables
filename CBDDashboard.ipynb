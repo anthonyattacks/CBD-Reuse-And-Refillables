{
 "cells": [
  {
   "cell_type": "markdown",
   "metadata": {},
   "source": [
    "# Planning:\n",
    "- CSV backend vs. SQL database (for ease of updating on Kelley's end)\n",
    "- Highlightable, clickable map that forwards to sheets page\n",
    "- Script that updates database in sheets / SQL, bi-directional?\n",
    "- Graphical / textual elements highlighting policy\n",
    "- News aggregator on recent food code policy for a given state\n",
    "- Comparison between state / federal code\n",
    "\n",
    "Tasks: \n",
    "- Figure out how to run python DB / julia options\n",
    "- Nest within Julia\n",
    "- Begin cross-reference section for exploring references between states\n",
    "\n",
    "Completed:\n",
    "- Initialize git repo / github\n",
    "- Start planning process / jupyter notebook"
   ]
  },
  {
   "cell_type": "code",
   "execution_count": 1,
   "metadata": {},
   "outputs": [
    {
     "ename": "NameError",
     "evalue": "name 'test' is not defined",
     "output_type": "error",
     "traceback": [
      "\u001b[1;31m---------------------------------------------------------------------------\u001b[0m",
      "\u001b[1;31mNameError\u001b[0m                                 Traceback (most recent call last)",
      "Input \u001b[1;32mIn [1]\u001b[0m, in \u001b[0;36m<module>\u001b[1;34m\u001b[0m\n\u001b[1;32m----> 1\u001b[0m \u001b[43mtest\u001b[49m\n",
      "\u001b[1;31mNameError\u001b[0m: name 'test' is not defined"
     ]
    }
   ],
   "source": [
    "test"
   ]
  }
 ],
 "metadata": {
  "interpreter": {
   "hash": "118508df3531a4baef22a353ae7891686b2f0c3ff24a04c6bb67baeaff15e974"
  },
  "kernelspec": {
   "display_name": "Julia 1.7.1",
   "language": "julia",
   "name": "julia-1.7"
  },
  "language_info": {
   "file_extension": ".jl",
   "mimetype": "application/julia",
   "name": "julia",
   "version": "1.7.1"
  },
  "orig_nbformat": 4
 },
 "nbformat": 4,
 "nbformat_minor": 2
}
