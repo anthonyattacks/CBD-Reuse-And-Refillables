{
 "cells": [
  {
   "cell_type": "markdown",
   "metadata": {},
   "source": [
    "Planning:\n",
    "- CSV backend vs. SQL database (for ease of updating on Kelley's end)\n",
    "- Highlightable, clickable map that forwards to sheets page\n",
    "- Script that updates database in sheets / SQL, bi-directional?\n",
    "- Graphical / textual elements highlighting policy\n",
    "- News aggregator on recent food code policy for a given state\n",
    "- Comparison between state / federal code\n",
    "\n",
    "Tasks: \n",
    "- Figure out how to run python DB / julia options\n",
    "- Nest within Julia\n",
    "- Begin cross-reference section for exploring references between states\n",
    "\n",
    "Completed:\n",
    "- Initialize git repo / github\n",
    "- Start planning process / jupyter notebook"
   ]
  },
  {
   "cell_type": "code",
   "execution_count": null,
   "metadata": {},
   "outputs": [],
   "source": []
  }
 ],
 "metadata": {
  "kernelspec": {
   "display_name": "Julia 1.6.2",
   "language": "julia",
   "name": "julia-1.6"
  },
  "language_info": {
   "file_extension": ".jl",
   "mimetype": "application/julia",
   "name": "julia",
   "version": "1.6.2"
  },
  "orig_nbformat": 4
 },
 "nbformat": 4,
 "nbformat_minor": 2
}
